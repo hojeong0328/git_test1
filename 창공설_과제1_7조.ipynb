{
  "nbformat": 4,
  "nbformat_minor": 0,
  "metadata": {
    "colab": {
      "provenance": [],
      "authorship_tag": "ABX9TyOEc8//MZK6SRsZWW643O6N",
      "include_colab_link": true
    },
    "kernelspec": {
      "name": "python3",
      "display_name": "Python 3"
    },
    "language_info": {
      "name": "python"
    }
  },
  "cells": [
    {
      "cell_type": "markdown",
      "metadata": {
        "id": "view-in-github",
        "colab_type": "text"
      },
      "source": [
        "<a href=\"https://colab.research.google.com/github/hojeong0328/git_test1/blob/main/%EC%B0%BD%EA%B3%B5%EC%84%A4_%EA%B3%BC%EC%A0%9C1_7%EC%A1%B0.ipynb\" target=\"_parent\"><img src=\"https://colab.research.google.com/assets/colab-badge.svg\" alt=\"Open In Colab\"/></a>"
      ]
    },
    {
      "cell_type": "code",
      "source": [
        "# ====== 라이브러리 불러오기 ======\n",
        "\n",
        "import matplotlib.pyplot as plt\n",
        "import tensorflow as tf\n",
        "import numpy as np\n",
        "from tensorflow.keras.models import Sequential\n",
        "from tensorflow.keras.layers import Dense, Activation\n",
        "from tensorflow.keras.utils import to_categorical\n",
        "from PIL import Image"
      ],
      "metadata": {
        "id": "eKtZItMd2ef2"
      },
      "execution_count": 34,
      "outputs": []
    },
    {
      "cell_type": "code",
      "source": [
        "\n",
        "# ====== 1. 데이터 불러오기 ======\n",
        "mnist = tf.keras.datasets.mnist\n",
        "(x_train, y_train), (x_valid, y_valid) = mnist.load_data()\n",
        "\n",
        "# ====== 2. 데이터 확인 (출력 제거) ======\n",
        "plt.imshow(x_train[0], cmap=\"gray\")"
      ],
      "metadata": {
        "colab": {
          "base_uri": "https://localhost:8080/",
          "height": 448
        },
        "id": "xtUYsna16MvO",
        "outputId": "ba07f82e-3743-4683-9615-ce2f9ee3d24a"
      },
      "execution_count": 35,
      "outputs": [
        {
          "output_type": "execute_result",
          "data": {
            "text/plain": [
              "<matplotlib.image.AxesImage at 0x7f2f72dd1730>"
            ]
          },
          "metadata": {},
          "execution_count": 35
        },
        {
          "output_type": "display_data",
          "data": {
            "text/plain": [
              "<Figure size 640x480 with 1 Axes>"
            ],
            "image/png": "[encoded data removed]"
          },
          "metadata": {}
        }
      ]
    },
    {
      "cell_type": "code",
      "source": [
        "#28 * 28 -> 1 * 784 변환\n",
        "X_train = x_train.reshape(60000, 784)\n",
        "X_valid = x_valid.reshape(10000, 784)\n",
        "#실수형 변환\n",
        "X_train = X_train.astype('float32')\n",
        "X_valid = X_valid.astype('float32')\n",
        "\n",
        "# 0~1 값으로 정규화\n",
        "X_train/= 255\n",
        "X_valid/= 255\n",
        "\n",
        "print(\"X train matrix shape\", X_train.shape)\n",
        "print(\"X valid matrix shape\", X_valid.shape)\n",
        "\n",
        "# one-hot incoding, (ex.7 -> (0,0,0,0,0,0,1,0,0)로 변환)\n",
        "Y_train = to_categorical(y_train, 10)\n",
        "Y_valid = to_categorical(y_valid, 10)\n",
        "\n",
        "print(\"Y_train matrix shape\", Y_train.shape)\n",
        "print(\"Y_valid matrix shape\", Y_valid.shape)"
      ],
      "metadata": {
        "colab": {
          "base_uri": "https://localhost:8080/"
        },
        "id": "jB-gQVCd502E",
        "outputId": "c23b6091-c26e-46e1-d43f-2c9e21de0047"
      },
      "execution_count": 36,
      "outputs": [
        {
          "output_type": "stream",
          "name": "stdout",
          "text": [
            "X train matrix shape (60000, 784)\n",
            "X valid matrix shape (10000, 784)\n",
            "Y_train matrix shape (60000, 10)\n",
            "Y_valid matrix shape (10000, 10)\n"
          ]
        }
      ]
    },
    {
      "cell_type": "code",
      "execution_count": 40,
      "metadata": {
        "colab": {
          "base_uri": "https://localhost:8080/",
          "height": 321
        },
        "id": "KwsOBYOM1FpF",
        "outputId": "b9b4d9ba-4ffc-43a1-dea8-7e7f10a20faf"
      },
      "outputs": [
        {
          "output_type": "display_data",
          "data": {
            "text/plain": [
              "\u001b[1mModel: \"sequential_3\"\u001b[0m\n"
            ],
            "text/html": [
              "<pre style=\"white-space:pre;overflow-x:auto;line-height:normal;font-family:Menlo,'DejaVu Sans Mono',consolas,'Courier New',monospace\"><span style=\"font-weight: bold\">Model: \"sequential_3\"</span>\n",
              "</pre>\n"
            ]
          },
          "metadata": {}
        },
        {
          "output_type": "display_data",
          "data": {
            "text/plain": [
              "┏━━━━━━━━━━━━━━━━━━━━━━━━━━━━━━━━━┳━━━━━━━━━━━━━━━━━━━━━━━━┳━━━━━━━━━━━━━━━┓\n",
              "┃\u001b[1m \u001b[0m\u001b[1mLayer (type)                   \u001b[0m\u001b[1m \u001b[0m┃\u001b[1m \u001b[0m\u001b[1mOutput Shape          \u001b[0m\u001b[1m \u001b[0m┃\u001b[1m \u001b[0m\u001b[1m      Param #\u001b[0m\u001b[1m \u001b[0m┃\n",
              "┡━━━━━━━━━━━━━━━━━━━━━━━━━━━━━━━━━╇━━━━━━━━━━━━━━━━━━━━━━━━╇━━━━━━━━━━━━━━━┩\n",
              "│ dense_9 (\u001b[38;5;33mDense\u001b[0m)                 │ (\u001b[38;5;45mNone\u001b[0m, \u001b[38;5;34m512\u001b[0m)            │       \u001b[38;5;34m401,920\u001b[0m │\n",
              "├─────────────────────────────────┼────────────────────────┼───────────────┤\n",
              "│ activation_9 (\u001b[38;5;33mActivation\u001b[0m)       │ (\u001b[38;5;45mNone\u001b[0m, \u001b[38;5;34m512\u001b[0m)            │             \u001b[38;5;34m0\u001b[0m │\n",
              "├─────────────────────────────────┼────────────────────────┼───────────────┤\n",
              "│ dense_10 (\u001b[38;5;33mDense\u001b[0m)                │ (\u001b[38;5;45mNone\u001b[0m, \u001b[38;5;34m256\u001b[0m)            │       \u001b[38;5;34m131,328\u001b[0m │\n",
              "├─────────────────────────────────┼────────────────────────┼───────────────┤\n",
              "│ activation_10 (\u001b[38;5;33mActivation\u001b[0m)      │ (\u001b[38;5;45mNone\u001b[0m, \u001b[38;5;34m256\u001b[0m)            │             \u001b[38;5;34m0\u001b[0m │\n",
              "├─────────────────────────────────┼────────────────────────┼───────────────┤\n",
              "│ dense_11 (\u001b[38;5;33mDense\u001b[0m)                │ (\u001b[38;5;45mNone\u001b[0m, \u001b[38;5;34m10\u001b[0m)             │         \u001b[38;5;34m2,570\u001b[0m │\n",
              "├─────────────────────────────────┼────────────────────────┼───────────────┤\n",
              "│ activation_11 (\u001b[38;5;33mActivation\u001b[0m)      │ (\u001b[38;5;45mNone\u001b[0m, \u001b[38;5;34m10\u001b[0m)             │             \u001b[38;5;34m0\u001b[0m │\n",
              "└─────────────────────────────────┴────────────────────────┴───────────────┘\n"
            ],
            "text/html": [
              "<pre style=\"white-space:pre;overflow-x:auto;line-height:normal;font-family:Menlo,'DejaVu Sans Mono',consolas,'Courier New',monospace\">┏━━━━━━━━━━━━━━━━━━━━━━━━━━━━━━━━━┳━━━━━━━━━━━━━━━━━━━━━━━━┳━━━━━━━━━━━━━━━┓\n",
              "┃<span style=\"font-weight: bold\"> Layer (type)                    </span>┃<span style=\"font-weight: bold\"> Output Shape           </span>┃<span style=\"font-weight: bold\">       Param # </span>┃\n",
              "┡━━━━━━━━━━━━━━━━━━━━━━━━━━━━━━━━━╇━━━━━━━━━━━━━━━━━━━━━━━━╇━━━━━━━━━━━━━━━┩\n",
              "│ dense_9 (<span style=\"color: #0087ff; text-decoration-color: #0087ff\">Dense</span>)                 │ (<span style=\"color: #00d7ff; text-decoration-color: #00d7ff\">None</span>, <span style=\"color: #00af00; text-decoration-color: #00af00\">512</span>)            │       <span style=\"color: #00af00; text-decoration-color: #00af00\">401,920</span> │\n",
              "├─────────────────────────────────┼────────────────────────┼───────────────┤\n",
              "│ activation_9 (<span style=\"color: #0087ff; text-decoration-color: #0087ff\">Activation</span>)       │ (<span style=\"color: #00d7ff; text-decoration-color: #00d7ff\">None</span>, <span style=\"color: #00af00; text-decoration-color: #00af00\">512</span>)            │             <span style=\"color: #00af00; text-decoration-color: #00af00\">0</span> │\n",
              "├─────────────────────────────────┼────────────────────────┼───────────────┤\n",
              "│ dense_10 (<span style=\"color: #0087ff; text-decoration-color: #0087ff\">Dense</span>)                │ (<span style=\"color: #00d7ff; text-decoration-color: #00d7ff\">None</span>, <span style=\"color: #00af00; text-decoration-color: #00af00\">256</span>)            │       <span style=\"color: #00af00; text-decoration-color: #00af00\">131,328</span> │\n",
              "├─────────────────────────────────┼────────────────────────┼───────────────┤\n",
              "│ activation_10 (<span style=\"color: #0087ff; text-decoration-color: #0087ff\">Activation</span>)      │ (<span style=\"color: #00d7ff; text-decoration-color: #00d7ff\">None</span>, <span style=\"color: #00af00; text-decoration-color: #00af00\">256</span>)            │             <span style=\"color: #00af00; text-decoration-color: #00af00\">0</span> │\n",
              "├─────────────────────────────────┼────────────────────────┼───────────────┤\n",
              "│ dense_11 (<span style=\"color: #0087ff; text-decoration-color: #0087ff\">Dense</span>)                │ (<span style=\"color: #00d7ff; text-decoration-color: #00d7ff\">None</span>, <span style=\"color: #00af00; text-decoration-color: #00af00\">10</span>)             │         <span style=\"color: #00af00; text-decoration-color: #00af00\">2,570</span> │\n",
              "├─────────────────────────────────┼────────────────────────┼───────────────┤\n",
              "│ activation_11 (<span style=\"color: #0087ff; text-decoration-color: #0087ff\">Activation</span>)      │ (<span style=\"color: #00d7ff; text-decoration-color: #00d7ff\">None</span>, <span style=\"color: #00af00; text-decoration-color: #00af00\">10</span>)             │             <span style=\"color: #00af00; text-decoration-color: #00af00\">0</span> │\n",
              "└─────────────────────────────────┴────────────────────────┴───────────────┘\n",
              "</pre>\n"
            ]
          },
          "metadata": {}
        },
        {
          "output_type": "display_data",
          "data": {
            "text/plain": [
              "\u001b[1m Total params: \u001b[0m\u001b[38;5;34m535,818\u001b[0m (2.04 MB)\n"
            ],
            "text/html": [
              "<pre style=\"white-space:pre;overflow-x:auto;line-height:normal;font-family:Menlo,'DejaVu Sans Mono',consolas,'Courier New',monospace\"><span style=\"font-weight: bold\"> Total params: </span><span style=\"color: #00af00; text-decoration-color: #00af00\">535,818</span> (2.04 MB)\n",
              "</pre>\n"
            ]
          },
          "metadata": {}
        },
        {
          "output_type": "display_data",
          "data": {
            "text/plain": [
              "\u001b[1m Trainable params: \u001b[0m\u001b[38;5;34m535,818\u001b[0m (2.04 MB)\n"
            ],
            "text/html": [
              "<pre style=\"white-space:pre;overflow-x:auto;line-height:normal;font-family:Menlo,'DejaVu Sans Mono',consolas,'Courier New',monospace\"><span style=\"font-weight: bold\"> Trainable params: </span><span style=\"color: #00af00; text-decoration-color: #00af00\">535,818</span> (2.04 MB)\n",
              "</pre>\n"
            ]
          },
          "metadata": {}
        },
        {
          "output_type": "display_data",
          "data": {
            "text/plain": [
              "\u001b[1m Non-trainable params: \u001b[0m\u001b[38;5;34m0\u001b[0m (0.00 B)\n"
            ],
            "text/html": [
              "<pre style=\"white-space:pre;overflow-x:auto;line-height:normal;font-family:Menlo,'DejaVu Sans Mono',consolas,'Courier New',monospace\"><span style=\"font-weight: bold\"> Non-trainable params: </span><span style=\"color: #00af00; text-decoration-color: #00af00\">0</span> (0.00 B)\n",
              "</pre>\n"
            ]
          },
          "metadata": {}
        }
      ],
      "source": [
        "model = Sequential()\n",
        "model.add(Dense(512, input_shape=(784,)))\n",
        "\n",
        "model.add(Activation('relu'))\n",
        "model.add(Dense(256))\n",
        "\n",
        "model.add(Activation('relu'))\n",
        "model.add(Dense(10))\n",
        "model.add(Activation('softmax'))\n",
        "\n",
        "model.summary()"
      ]
    },
    {
      "cell_type": "code",
      "source": [
        "model.compile(loss=\"categorical_crossentropy\",\n",
        "              optimizer=\"adam\", metrics=['accuracy'])\n",
        "model.fit(X_train, Y_train, batch_size=128, epochs=10, verbose=1)"
      ],
      "metadata": {
        "colab": {
          "base_uri": "https://localhost:8080/"
        },
        "id": "wYcE02oC-DgJ",
        "outputId": "1810c525-7bc4-42e0-c4d7-5c2cd77da2f0"
      },
      "execution_count": 73,
      "outputs": [
        {
          "output_type": "stream",
          "name": "stdout",
          "text": [
            "Epoch 1/10\n",
            "\u001b[1m469/469\u001b[0m \u001b[32m━━━━━━━━━━━━━━━━━━━━\u001b[0m\u001b[37m\u001b[0m \u001b[1m10s\u001b[0m 16ms/step - accuracy: 0.9993 - loss: 0.0038\n",
            "Epoch 2/10\n",
            "\u001b[1m469/469\u001b[0m \u001b[32m━━━━━━━━━━━━━━━━━━━━\u001b[0m\u001b[37m\u001b[0m \u001b[1m9s\u001b[0m 19ms/step - accuracy: 0.9994 - loss: 0.0046\n",
            "Epoch 3/10\n",
            "\u001b[1m469/469\u001b[0m \u001b[32m━━━━━━━━━━━━━━━━━━━━\u001b[0m\u001b[37m\u001b[0m \u001b[1m8s\u001b[0m 17ms/step - accuracy: 0.9990 - loss: 0.0056\n",
            "Epoch 4/10\n",
            "\u001b[1m469/469\u001b[0m \u001b[32m━━━━━━━━━━━━━━━━━━━━\u001b[0m\u001b[37m\u001b[0m \u001b[1m9s\u001b[0m 15ms/step - accuracy: 0.9993 - loss: 0.0050\n",
            "Epoch 5/10\n",
            "\u001b[1m469/469\u001b[0m \u001b[32m━━━━━━━━━━━━━━━━━━━━\u001b[0m\u001b[37m\u001b[0m \u001b[1m9s\u001b[0m 18ms/step - accuracy: 0.9992 - loss: 0.0037\n",
            "Epoch 6/10\n",
            "\u001b[1m469/469\u001b[0m \u001b[32m━━━━━━━━━━━━━━━━━━━━\u001b[0m\u001b[37m\u001b[0m \u001b[1m8s\u001b[0m 17ms/step - accuracy: 0.9993 - loss: 0.0022\n",
            "Epoch 7/10\n",
            "\u001b[1m469/469\u001b[0m \u001b[32m━━━━━━━━━━━━━━━━━━━━\u001b[0m\u001b[37m\u001b[0m \u001b[1m8s\u001b[0m 16ms/step - accuracy: 0.9996 - loss: 0.0020\n",
            "Epoch 8/10\n",
            "\u001b[1m469/469\u001b[0m \u001b[32m━━━━━━━━━━━━━━━━━━━━\u001b[0m\u001b[37m\u001b[0m \u001b[1m9s\u001b[0m 18ms/step - accuracy: 0.9996 - loss: 0.0028\n",
            "Epoch 9/10\n",
            "\u001b[1m469/469\u001b[0m \u001b[32m━━━━━━━━━━━━━━━━━━━━\u001b[0m\u001b[37m\u001b[0m \u001b[1m7s\u001b[0m 16ms/step - accuracy: 0.9986 - loss: 0.0082\n",
            "Epoch 10/10\n",
            "\u001b[1m469/469\u001b[0m \u001b[32m━━━━━━━━━━━━━━━━━━━━\u001b[0m\u001b[37m\u001b[0m \u001b[1m9s\u001b[0m 18ms/step - accuracy: 0.9995 - loss: 0.0023\n"
          ]
        },
        {
          "output_type": "execute_result",
          "data": {
            "text/plain": [
              "<keras.src.callbacks.history.History at 0x7f2f88ae6ed0>"
            ]
          },
          "metadata": {},
          "execution_count": 73
        }
      ]
    },
    {
      "cell_type": "code",
      "source": [
        "score = model.evaluate(X_valid, Y_valid)\n",
        "print('Test score', score[0])\n",
        "print('Test accuracy', score[1])"
      ],
      "metadata": {
        "colab": {
          "base_uri": "https://localhost:8080/"
        },
        "id": "vmqUIXqq-0Yq",
        "outputId": "e9047471-4e84-40ce-869c-8d979c407027"
      },
      "execution_count": 76,
      "outputs": [
        {
          "output_type": "stream",
          "name": "stdout",
          "text": [
            "\u001b[1m313/313\u001b[0m \u001b[32m━━━━━━━━━━━━━━━━━━━━\u001b[0m\u001b[37m\u001b[0m \u001b[1m1s\u001b[0m 4ms/step - accuracy: 0.9788 - loss: 0.2649\n",
            "Test score 0.21350058913230896\n",
            "Test accuracy 0.982200026512146\n"
          ]
        }
      ]
    },
    {
      "cell_type": "code",
      "source": [
        "predicted_class = np.argmax(model.predict(X_valid), axis = 1)\n",
        "correct_indices = np.nonzero(predicted_class == y_valid)[0]\n",
        "print(len(correct_indices))\n",
        "incorrect_indices = np.nonzero(predicted_class != y_valid)[0]\n",
        "print(len(incorrect_indices))"
      ],
      "metadata": {
        "colab": {
          "base_uri": "https://localhost:8080/"
        },
        "id": "FNv5JHxF-1zK",
        "outputId": "25eb3dce-ffb4-4660-bdb8-9980aabae7b7"
      },
      "execution_count": 77,
      "outputs": [
        {
          "output_type": "stream",
          "name": "stdout",
          "text": [
            "\u001b[1m313/313\u001b[0m \u001b[32m━━━━━━━━━━━━━━━━━━━━\u001b[0m\u001b[37m\u001b[0m \u001b[1m1s\u001b[0m 3ms/step\n",
            "9822\n",
            "178\n"
          ]
        }
      ]
    },
    {
      "cell_type": "code",
      "source": [
        "# plt.figure()\n",
        "\n",
        "# for i in range(9) :\n",
        "#     plt.subplot(3, 3, i+1)\n",
        "#     correct= correct_indices[i]\n",
        "#     plt.imshow(x_valid[correct].reshape(28, 28), cmap=\"gray\")\n",
        "#     plt.title(\"Predicted {}, Correct {}\".format(predicted_class[correct], y_valid[correct]))\n",
        "\n",
        "# plt.tight_layout()"
      ],
      "metadata": {
        "id": "zmPaRPZ2-3Jp"
      },
      "execution_count": 82,
      "outputs": []
    },
    {
      "cell_type": "code",
      "source": [
        "# plt.figure()\n",
        "\n",
        "# for i in range(9) :\n",
        "#     plt.subplot(3, 3, i+1)\n",
        "#     correct= incorrect_indices[i]\n",
        "#     plt.imshow(x_valid[correct].reshape(28, 28), cmap=\"gray\")\n",
        "#     plt.title(\"Predicted {}, Correct {}\".format(predicted_class[correct], y_valid[correct]))\n",
        "\n",
        "# plt.tight_layout()"
      ],
      "metadata": {
        "id": "fmik_IXK-4fI"
      },
      "execution_count": 83,
      "outputs": []
    },
    {
      "cell_type": "code",
      "source": [
        "def predict_image(img_path):\n",
        "    try:\n",
        "\n",
        "        img = Image.open(img_path).convert(\"L\")\n",
        "    except FileNotFoundError:\n",
        "        print(f\"Error: 파일을 찾을 수 없습니다. 경로를 확인하세요: {img_path}\")\n",
        "        return\n",
        "\n",
        "    img = img.resize((28, 28))\n",
        "    img_array = np.array(img).astype(\"float32\") / 255.0\n",
        "\n",
        "    average_brightness = np.mean(img_array)\n",
        "\n",
        "    if average_brightness > 0.5: #밝은 배경\n",
        "        processed_img = 1 - img_array\n",
        "        print(f\"[{img_path}] 흰 배경으로 인식 -> 색반전\")\n",
        "    else: #검은 배경\n",
        "        processed_img = img_array\n",
        "        print(f\"[{img_path}] 검은 배경으로 인식 -> 원본 유지\")\n",
        "\n",
        "    # 1차원 벡터로 변환\n",
        "    input_img = processed_img.reshape(1, 784)\n",
        "\n",
        "    # 예측\n",
        "    prediction = np.argmax(model.predict(input_img, verbose=0))\n",
        "\n",
        "    # --- 시각화 코드 주석 처리 (출력 제거) ---\n",
        "    # plt.imshow(processed_img, cmap=\"gray\")\n",
        "    # plt.title(f\"예측된 숫자: {prediction}\")\n",
        "    # plt.axis(\"off\")\n",
        "    # plt.show()\n",
        "    # ----------------------------------------\n",
        "\n",
        "    print(f\"예측 결과: {prediction}\\n\" + \"=\"*20)\n",
        "\n",
        "# ====== 예시 ======\n",
        "# 'test0.png'는 흰 배경 이미지, 'test0_dark.png'는 검은 배경 이미지라고 가정\n",
        "predict_image(\"test0.png\")\n",
        "predict_image(\"test1.png\")\n",
        "predict_image(\"test2.png\")\n",
        "predict_image(\"test3.png\")\n",
        "predict_image(\"test4.png\")\n",
        "predict_image(\"test5.png\")\n",
        "predict_image(\"test6.png\")\n",
        "predict_image(\"test7.png\")\n",
        "predict_image(\"test8.png\")\n",
        "predict_image(\"test9.png\")\n"
      ],
      "metadata": {
        "colab": {
          "base_uri": "https://localhost:8080/"
        },
        "id": "SXNP8QTu8Uve",
        "outputId": "7ddd857c-f1cc-49af-ac81-3dcc7ae7cb1c"
      },
      "execution_count": 84,
      "outputs": [
        {
          "output_type": "stream",
          "name": "stdout",
          "text": [
            "[test0.png] 검은 배경으로 인식 -> 원본 유지\n",
            "예측 결과: 6\n",
            "====================\n",
            "[test1.png] 흰 배경으로 인식 -> 색반전\n",
            "예측 결과: 1\n",
            "====================\n",
            "[test2.png] 흰 배경으로 인식 -> 색반전\n",
            "예측 결과: 2\n",
            "====================\n",
            "[test3.png] 검은 배경으로 인식 -> 원본 유지\n",
            "예측 결과: 3\n",
            "====================\n",
            "[test4.png] 흰 배경으로 인식 -> 색반전\n",
            "예측 결과: 4\n",
            "====================\n",
            "[test5.png] 흰 배경으로 인식 -> 색반전\n",
            "예측 결과: 5\n",
            "====================\n",
            "[test6.png] 검은 배경으로 인식 -> 원본 유지\n",
            "예측 결과: 5\n",
            "====================\n",
            "[test7.png] 검은 배경으로 인식 -> 원본 유지\n",
            "예측 결과: 7\n",
            "====================\n",
            "[test8.png] 검은 배경으로 인식 -> 원본 유지\n",
            "예측 결과: 8\n",
            "====================\n",
            "[test9.png] 흰 배경으로 인식 -> 색반전\n",
            "예측 결과: 9\n",
            "====================\n"
          ]
        }
      ]
    }
  ]
}